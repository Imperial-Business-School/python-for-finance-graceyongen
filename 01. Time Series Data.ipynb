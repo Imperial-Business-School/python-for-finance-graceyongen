{
 "cells": [
  {
   "attachments": {},
   "cell_type": "markdown",
   "metadata": {},
   "source": [
    "# Introduction to Time Series Data\n",
    "\n",
    "Data can come in many different formats, and many differentshapes and sizes. You've maybe heard of tabular data, a format you may be familiar with from working in something like Excel. \n",
    "\n",
    "We will explore two main kinds of tabular data in this module. The first is time series data. Time series data will be *indexed* with a date and time. We'll look a bit more closely at that soon, but for now just think of it as each row having a date or time, rather than a row number."
   ]
  },
  {
   "attachments": {},
   "cell_type": "markdown",
   "metadata": {},
   "source": [
    "## Loading Data\n",
    "\n",
    "One of the most popular packages in Python for working with tabular data is called Pandas. Today we'll get acquainted with Pandas.\n",
    "\n",
    "The first thing we'll do is `import` the `pandas` package. Convention has us use a shortform name - `pd` - because we'll be using the package so often."
   ]
  },
  {
   "cell_type": "code",
   "execution_count": 3,
   "metadata": {},
   "outputs": [],
   "source": [
    "import pandas as pd"
   ]
  },
  {
   "attachments": {},
   "cell_type": "markdown",
   "metadata": {},
   "source": [
    "And below we'll use pandas' `read_csv()` to load the data into a `DataFrame`. DataFrames are the main data structure in pandas for tabular data, and lots of other programming languages use the concept of a DataFrame too! By convention, you'll often see `df` used as a variable name."
   ]
  },
  {
   "cell_type": "code",
   "execution_count": 4,
   "metadata": {},
   "outputs": [],
   "source": [
    "# Load the data\n",
    "df = pd.read_csv(\"data/NVDA_2024.csv\")"
   ]
  },
  {
   "attachments": {},
   "cell_type": "markdown",
   "metadata": {},
   "source": [
    "Before we do anything else, it's a good idea to take a look at the DataFrame. Some methods will let us take a closer look at parts of our data. "
   ]
  },
  {
   "cell_type": "code",
   "execution_count": 5,
   "metadata": {},
   "outputs": [
    {
     "name": "stdout",
     "output_type": "stream",
     "text": [
      "         Date      Close       High        Low       Open     Volume\n",
      "0  2024-01-02  48.149918  49.276493  47.577135  49.225514  411254000\n",
      "1  2024-01-03  47.551140  48.165907  47.302233  47.467172  320896000\n",
      "2  2024-01-04  47.979984  48.481795  47.490167  47.749068  306535000\n",
      "3  2024-01-05  49.078564  49.528395  48.287860  48.443804  415039000\n",
      "4  2024-01-08  52.233379  52.255374  49.460423  49.493411  642510000\n",
      "           Date       Close        High         Low        Open     Volume\n",
      "236  2024-12-09  138.797226  139.937120  137.117388  138.957215  189308600\n",
      "237  2024-12-10  135.057587  141.806966  133.777690  138.997212  210020900\n",
      "238  2024-12-11  139.297180  140.157102  135.197567  137.347363  184905200\n",
      "239  2024-12-12  137.327362  138.427267  135.787510  137.067391  159211400\n",
      "240  2024-12-13  134.237656  139.587170  132.527806  138.927227  231514900\n",
      "241  2024-12-16  131.987854  134.387627  130.407998  134.167646  237951100\n",
      "242  2024-12-17  130.378006  131.577893  126.848332  129.078123  259410300\n",
      "243  2024-12-18  128.898148  136.687424  128.268201  133.847689  277444500\n",
      "244  2024-12-19  130.667969  134.017667  129.538083  131.747871  209719200\n",
      "245  2024-12-20  134.687607  135.267555  128.208207  129.798057  306528600\n",
      "246  2024-12-23  139.657150  139.777134  135.107566  136.267463  176053500\n",
      "247  2024-12-24  140.207108  141.886946  138.637245  139.987127  105157000\n",
      "248  2024-12-26  139.917130  140.837058  137.717335  139.687155  116205600\n",
      "249  2024-12-27  136.997391  139.007216  134.697615  138.537258  170582600\n",
      "250  2024-12-30  137.477356  140.257099  134.007674  134.817597  167734700\n"
     ]
    }
   ],
   "source": [
    "# Print the first five rows\n",
    "print(df.head())\n",
    "\n",
    "# Print the last 15 rows\n",
    "print(df.tail(15))"
   ]
  },
  {
   "attachments": {},
   "cell_type": "markdown",
   "metadata": {},
   "source": [
    "## Looking at data\n",
    "\n",
    "Other methods and attributes can give us an overview, and give us further insights to our data in general. `shape()` will tell us the number of rows and columns in our data frame, while `info()` will give us some info on the data type (`dtype`) of each column.\n",
    "\n",
    "You'll notice the types are slightly different from the usual Python types - this is because they belong to the `numpy` package, which sits under the hood of `pandas`. We'll look more at `numpy` tomorrow, but for now here is a word about each of the types in our data frame.\n",
    "\n",
    "- `float64` - 64-bit floating point (number with a decimal point)\n",
    "- `int64` - 64-bit integer (whole number)\n",
    "- `object` - other Python data types (strings in this case)"
   ]
  },
  {
   "cell_type": "code",
   "execution_count": 6,
   "metadata": {},
   "outputs": [
    {
     "name": "stdout",
     "output_type": "stream",
     "text": [
      "Rows and columns:  (251, 6)\n",
      "Info\n",
      "<class 'pandas.core.frame.DataFrame'>\n",
      "RangeIndex: 251 entries, 0 to 250\n",
      "Data columns (total 6 columns):\n",
      " #   Column  Non-Null Count  Dtype  \n",
      "---  ------  --------------  -----  \n",
      " 0   Date    251 non-null    object \n",
      " 1   Close   251 non-null    float64\n",
      " 2   High    251 non-null    float64\n",
      " 3   Low     251 non-null    float64\n",
      " 4   Open    251 non-null    float64\n",
      " 5   Volume  251 non-null    int64  \n",
      "dtypes: float64(4), int64(1), object(1)\n",
      "memory usage: 11.9+ KB\n",
      "None\n"
     ]
    }
   ],
   "source": [
    "# Print rows and columns\n",
    "print(\"Rows and columns: \", df.shape)\n",
    "\n",
    "# Print summary info\n",
    "print(\"Info\")\n",
    "print(df.info())\n"
   ]
  },
  {
   "attachments": {},
   "cell_type": "markdown",
   "metadata": {},
   "source": [
    "For a look at some actual data within the data frame, we can use square bracket notation and `iloc` to access columns and rows. The `i` in `iloc` refers to **integer-based indexing**, so looking at a row or column *number*."
   ]
  },
  {
   "cell_type": "code",
   "execution_count": null,
   "metadata": {},
   "outputs": [],
   "source": []
  },
  {
   "cell_type": "markdown",
   "metadata": {},
   "source": [
    "## Filtering Data\n",
    "\n",
    "In Pandas, we can use a technique known as *boolean indexing* or *masking* to filter rows depending on some condition. We can express conditions using a *boolean expression* or *compound boolean expression* with either `&` (and) *or* `|` (or). These are also called *logical expressions*."
   ]
  },
  {
   "cell_type": "code",
   "execution_count": null,
   "metadata": {},
   "outputs": [],
   "source": []
  },
  {
   "cell_type": "markdown",
   "metadata": {},
   "source": [
    "### Exercise: End of Year\n",
    "\n",
    "Display the data for the entire month of December 2024."
   ]
  },
  {
   "cell_type": "markdown",
   "metadata": {},
   "source": [
    "### Exercise: The First Fifty\n",
    "\n",
    "Display the data for the first fifty (50) days of trading in the period."
   ]
  },
  {
   "cell_type": "code",
   "execution_count": 7,
   "metadata": {},
   "outputs": [
    {
     "name": "stdout",
     "output_type": "stream",
     "text": [
      "          Date      Close       High        Low       Open      Volume\n",
      "0   2024-01-02  48.149918  49.276493  47.577135  49.225514   411254000\n",
      "1   2024-01-03  47.551140  48.165907  47.302233  47.467172   320896000\n",
      "2   2024-01-04  47.979984  48.481795  47.490167  47.749068   306535000\n",
      "3   2024-01-05  49.078564  49.528395  48.287860  48.443804   415039000\n",
      "4   2024-01-08  52.233379  52.255374  49.460423  49.493411   642510000\n",
      "5   2024-01-09  53.120052  54.304609  51.670596  52.381331   773100000\n",
      "6   2024-01-10  54.329597  54.579504  53.468921  53.595876   533796000\n",
      "7   2024-01-11  54.801418  55.325224  53.539895  54.978354   596759000\n",
      "8   2024-01-12  54.689457  54.949361  54.309602  54.599491   352994000\n",
      "9   2024-01-16  56.360836  56.813665  54.879394  54.997350   449580000\n",
      "10  2024-01-17  56.031960  56.449802  54.719453  56.325848   474394000\n",
      "11  2024-01-18  57.085564  57.578379  56.085939  57.238506   491650000\n",
      "12  2024-01-19  59.468670  59.477665  57.203518  57.967231   543501000\n",
      "13  2024-01-22  59.631607  60.308355  59.047827  60.026459   452955000\n",
      "14  2024-01-23  59.850529  59.887514  58.563010  59.547641   294654000\n",
      "15  2024-01-24  61.338966  62.825408  59.915501  60.281365   560271000\n",
      "16  2024-01-25  61.593868  62.695456  60.827154  62.326591   482777000\n",
      "17  2024-01-26  61.008091  61.759811  60.550267  60.937118   390309000\n",
      "18  2024-01-29  62.441547  62.465537  60.884134  61.209009   348733000\n",
      "19  2024-01-30  62.750431  63.469163  62.236624  62.876387   410735000\n",
      "20  2024-01-31  61.503902  62.245624  60.677213  61.416933   453795000\n",
      "21  2024-02-01  63.003342  63.167282  61.626860  62.076688   369146000\n",
      "22  2024-02-02  66.135170  66.575000  63.666092  63.949986   476578000\n",
      "23  2024-02-05  69.305977  69.470916  67.179776  68.199390   680078000\n",
      "24  2024-02-06  68.197395  69.727819  66.275121  69.603865   683111000\n",
      "25  2024-02-07  70.072685  70.193642  67.574623  68.293355   495575000\n",
      "26  2024-02-08  69.614853  70.767420  69.428926  70.047689   414422000\n",
      "27  2024-02-09  72.105934  72.157909  70.185650  70.506528   436637000\n",
      "28  2024-02-12  72.220879  74.582990  71.223252  72.572744   613710000\n",
      "29  2024-02-13  72.100929  73.422432  69.593875  70.373581   602580000\n",
      "30  2024-02-14  73.872269  74.208141  71.911007  73.174533   504917000\n",
      "31  2024-02-15  72.630714  73.947221  72.372816  73.841266   420122000\n",
      "32  2024-02-16  72.585739  74.374069  72.473782  74.072180   495327000\n",
      "33  2024-02-20  69.425926  71.928984  67.708569  71.919985   704833000\n",
      "34  2024-02-21  67.446678  68.862147  66.223138  67.980474   690298000\n",
      "35  2024-02-22  78.508522  78.545503  74.192142  74.996840   865100000\n",
      "36  2024-02-23  78.787407  82.363060  77.540874  80.759666   829388000\n",
      "37  2024-02-26  79.062317  80.615734  78.475532  79.670083   503973000\n",
      "38  2024-02-27  78.671448  79.450162  77.133032  79.351193   391705000\n",
      "39  2024-02-28  77.633850  78.903370  77.096050  77.590867   393110000\n",
      "40  2024-02-29  79.082306  79.959975  78.320591  79.064315   507289000\n",
      "41  2024-03-01  82.248108  82.269104  79.405174  79.969964   479135000\n",
      "42  2024-03-04  85.205002  87.662079  83.687574  84.098415   615616000\n",
      "43  2024-03-05  85.935760  86.068720  83.389600  85.241988   520639000\n",
      "44  2024-03-06  88.670860  89.694526  87.001411  87.993089   582520000\n",
      "45  2024-03-07  92.638557  92.736525  89.572564  90.128381   608119000\n",
      "46  2024-03-08  87.499252  97.368012  86.477585  95.106754  1142269000\n",
      "47  2024-03-11  85.745827  88.767829  84.138353  86.400610   678364000\n",
      "48  2024-03-12  91.882812  91.929794  86.121705  88.020083   668075000\n",
      "49  2024-03-13  90.858139  91.473934  88.405942  91.025084   635713000\n"
     ]
    }
   ],
   "source": [
    "print(df.head(50))"
   ]
  },
  {
   "cell_type": "markdown",
   "metadata": {},
   "source": [
    "### Optional Exercise: Big Days\n",
    "\n",
    "Display rows where trading volume exceeded 800 000 000."
   ]
  },
  {
   "cell_type": "code",
   "execution_count": 8,
   "metadata": {},
   "outputs": [],
   "source": [
    "## YOUR CODE GOES HERE"
   ]
  },
  {
   "attachments": {},
   "cell_type": "markdown",
   "metadata": {},
   "source": [
    "## Setting the Index\n",
    "\n",
    "In a DataFrame, each row is assigned a unique index value. By default, this is just a number (starting at 0). When it makes sense, we can choose one of the other columns to be an index. For time series data, where each row represents a different point in time, we'll set our `Date` column as the index. This will make it easier for us to work with the data, and can speed up other operations later on.\n"
   ]
  },
  {
   "cell_type": "code",
   "execution_count": 9,
   "metadata": {},
   "outputs": [
    {
     "data": {
      "application/vnd.microsoft.datawrangler.viewer.v0+json": {
       "columns": [
        {
         "name": "Date",
         "rawType": "datetime64[ns]",
         "type": "datetime"
        },
        {
         "name": "Close",
         "rawType": "float64",
         "type": "float"
        },
        {
         "name": "High",
         "rawType": "float64",
         "type": "float"
        },
        {
         "name": "Low",
         "rawType": "float64",
         "type": "float"
        },
        {
         "name": "Open",
         "rawType": "float64",
         "type": "float"
        },
        {
         "name": "Volume",
         "rawType": "int64",
         "type": "integer"
        }
       ],
       "ref": "a878e061-8cef-4ea9-9936-5ad17a088ff1",
       "rows": [
        [
         "2024-01-02 00:00:00",
         "48.14991760253906",
         "49.27649344260116",
         "47.57713465197093",
         "49.22551389912714",
         "411254000"
        ],
        [
         "2024-01-03 00:00:00",
         "47.55113983154297",
         "48.16590678620074",
         "47.302232772788166",
         "47.46717173653147",
         "320896000"
        ],
        [
         "2024-01-04 00:00:00",
         "47.97998428344727",
         "48.48179475152094",
         "47.49016653492504",
         "47.74906818641796",
         "306535000"
        ],
        [
         "2024-01-05 00:00:00",
         "49.07856369018555",
         "49.52839547317931",
         "48.28786035280196",
         "48.4438038170967",
         "415039000"
        ],
        [
         "2024-01-08 00:00:00",
         "52.23337936401367",
         "52.25537427649761",
         "49.46042263300492",
         "49.49341118846584",
         "642510000"
        ],
        [
         "2024-01-09 00:00:00",
         "53.12005233764648",
         "54.30460889941536",
         "51.67059585850368",
         "52.38133132087113",
         "773100000"
        ],
        [
         "2024-01-10 00:00:00",
         "54.32959747314453",
         "54.57950363229104",
         "53.46892060003172",
         "53.59587564392309",
         "533796000"
        ],
        [
         "2024-01-11 00:00:00",
         "54.80141830444336",
         "55.32522366817502",
         "53.53989483791264",
         "54.97835381066879",
         "596759000"
        ],
        [
         "2024-01-12 00:00:00",
         "54.68945693969727",
         "54.94936145206347",
         "54.30960236510811",
         "54.59949057976511",
         "352994000"
        ],
        [
         "2024-01-16 00:00:00",
         "56.360836029052734",
         "56.813665103138256",
         "54.879393878712925",
         "54.99734961591672",
         "449580000"
        ],
        [
         "2024-01-17 00:00:00",
         "56.031959533691406",
         "56.44980188752581",
         "54.71945269845349",
         "56.325847887071866",
         "474394000"
        ],
        [
         "2024-01-18 00:00:00",
         "57.08556365966797",
         "57.57837864545508",
         "56.08593900392558",
         "57.23850610997206",
         "491650000"
        ],
        [
         "2024-01-19 00:00:00",
         "59.46866989135742",
         "59.47766538428564",
         "57.20351782958036",
         "57.967230984594906",
         "543501000"
        ],
        [
         "2024-01-22 00:00:00",
         "59.63160705566406",
         "60.3083548831195",
         "59.04782663734",
         "60.0264592424289",
         "452955000"
        ],
        [
         "2024-01-23 00:00:00",
         "59.850528717041016",
         "59.88751357892662",
         "58.56301013401379",
         "59.54764104000483",
         "294654000"
        ],
        [
         "2024-01-24 00:00:00",
         "61.338966369628906",
         "62.82540771389363",
         "59.91550110281905",
         "60.28136484798457",
         "560271000"
        ],
        [
         "2024-01-25 00:00:00",
         "61.593868255615234",
         "62.69545573126452",
         "60.8271540987025",
         "62.326590967001806",
         "482777000"
        ],
        [
         "2024-01-26 00:00:00",
         "61.00809097290039",
         "61.759811433716834",
         "60.550266507965134",
         "60.93711847607482",
         "390309000"
        ],
        [
         "2024-01-29 00:00:00",
         "62.44154739379883",
         "62.46553664404452",
         "60.88413369401423",
         "61.20900862072411",
         "348733000"
        ],
        [
         "2024-01-30 00:00:00",
         "62.750431060791016",
         "63.46916289646236",
         "62.23662409247559",
         "62.876387020851176",
         "410735000"
        ],
        [
         "2024-01-31 00:00:00",
         "61.503902435302734",
         "62.24562445900208",
         "60.67721323683143",
         "61.41693329631054",
         "453795000"
        ],
        [
         "2024-02-01 00:00:00",
         "63.00334167480469",
         "63.167281577618986",
         "61.626859664228725",
         "62.07668769492248",
         "369146000"
        ],
        [
         "2024-02-02 00:00:00",
         "66.13516998291016",
         "66.57499963939881",
         "63.66609208338151",
         "63.94998587832111",
         "476578000"
        ],
        [
         "2024-02-05 00:00:00",
         "69.30597686767578",
         "69.47091584987561",
         "67.17977633836104",
         "68.19939012424172",
         "680078000"
        ],
        [
         "2024-02-06 00:00:00",
         "68.19739532470703",
         "69.72781896754408",
         "66.27512050871108",
         "69.60386495591794",
         "683111000"
        ],
        [
         "2024-02-07 00:00:00",
         "70.07268524169922",
         "70.19364201712641",
         "67.57462276790365",
         "68.29335463883889",
         "495575000"
        ],
        [
         "2024-02-08 00:00:00",
         "69.61485290527344",
         "70.76741990227906",
         "69.42892572649546",
         "70.04768899799114",
         "414422000"
        ],
        [
         "2024-02-09 00:00:00",
         "72.1059341430664",
         "72.15790895507466",
         "70.18564978274989",
         "70.50652846806685",
         "436637000"
        ],
        [
         "2024-02-12 00:00:00",
         "72.22087860107422",
         "74.5829904741092",
         "71.22325216031359",
         "72.57274383383451",
         "613710000"
        ],
        [
         "2024-02-13 00:00:00",
         "72.1009292602539",
         "73.42243172037925",
         "69.5938748865512",
         "70.37358093821054",
         "602580000"
        ],
        [
         "2024-02-14 00:00:00",
         "73.87226867675781",
         "74.20814111994534",
         "71.91100698040367",
         "73.17453257134588",
         "504917000"
        ],
        [
         "2024-02-15 00:00:00",
         "72.6307144165039",
         "73.94722123185431",
         "72.37281568709578",
         "73.84126585429142",
         "420122000"
        ],
        [
         "2024-02-16 00:00:00",
         "72.58573913574219",
         "74.37406898709354",
         "72.47378167003887",
         "74.07218040927339",
         "495327000"
        ],
        [
         "2024-02-20 00:00:00",
         "69.4259262084961",
         "71.92898383060526",
         "67.70856895062664",
         "71.91998452531317",
         "704833000"
        ],
        [
         "2024-02-21 00:00:00",
         "67.4466781616211",
         "68.86214710879592",
         "66.22313849991595",
         "67.9804743369606",
         "690298000"
        ],
        [
         "2024-02-22 00:00:00",
         "78.5085220336914",
         "78.5455030813757",
         "74.1921420425949",
         "74.99684018330679",
         "865100000"
        ],
        [
         "2024-02-23 00:00:00",
         "78.78740692138672",
         "82.36305967089498",
         "77.54087350099768",
         "80.759665666911",
         "829388000"
        ],
        [
         "2024-02-26 00:00:00",
         "79.06231689453125",
         "80.61573447856021",
         "78.47553160288044",
         "79.67008277283831",
         "503973000"
        ],
        [
         "2024-02-27 00:00:00",
         "78.67144775390625",
         "79.45016223022866",
         "77.13303174065258",
         "79.35119274989219",
         "391705000"
        ],
        [
         "2024-02-28 00:00:00",
         "77.63385009765625",
         "78.90337002935253",
         "77.09605003023249",
         "77.59086697046706",
         "393110000"
        ],
        [
         "2024-02-29 00:00:00",
         "79.08230590820312",
         "79.95997471561954",
         "78.32059087723945",
         "79.0643149217093",
         "507289000"
        ],
        [
         "2024-03-01 00:00:00",
         "82.24810791015625",
         "82.26910374751212",
         "79.40517391258761",
         "79.96996422541928",
         "479135000"
        ],
        [
         "2024-03-04 00:00:00",
         "85.20500183105469",
         "87.66207928922401",
         "83.6875739405617",
         "84.09841513764894",
         "615616000"
        ],
        [
         "2024-03-05 00:00:00",
         "85.93576049804688",
         "86.06872004565462",
         "83.38960003379123",
         "85.24198821051228",
         "520639000"
        ],
        [
         "2024-03-06 00:00:00",
         "88.67086029052734",
         "89.69452599594824",
         "87.00141069166892",
         "87.99308922719804",
         "582520000"
        ],
        [
         "2024-03-07 00:00:00",
         "92.63855743408205",
         "92.7365248144859",
         "89.57256358530061",
         "90.12838069813152",
         "608119000"
        ],
        [
         "2024-03-08 00:00:00",
         "87.49925231933594",
         "97.36801162259307",
         "86.47758481062256",
         "95.10675351305797",
         "1142269000"
        ],
        [
         "2024-03-11 00:00:00",
         "85.7458267211914",
         "88.76782871199401",
         "84.13835321441624",
         "86.4006103441235",
         "678364000"
        ],
        [
         "2024-03-12 00:00:00",
         "91.8828125",
         "91.92979413377265",
         "86.12170491240781",
         "88.02008324614344",
         "668075000"
        ],
        [
         "2024-03-13 00:00:00",
         "90.85813903808594",
         "91.47393396528192",
         "88.40594204784502",
         "91.02508398682748",
         "635713000"
        ]
       ],
       "shape": {
        "columns": 5,
        "rows": 251
       }
      },
      "text/html": [
       "<div>\n",
       "<style scoped>\n",
       "    .dataframe tbody tr th:only-of-type {\n",
       "        vertical-align: middle;\n",
       "    }\n",
       "\n",
       "    .dataframe tbody tr th {\n",
       "        vertical-align: top;\n",
       "    }\n",
       "\n",
       "    .dataframe thead th {\n",
       "        text-align: right;\n",
       "    }\n",
       "</style>\n",
       "<table border=\"1\" class=\"dataframe\">\n",
       "  <thead>\n",
       "    <tr style=\"text-align: right;\">\n",
       "      <th></th>\n",
       "      <th>Close</th>\n",
       "      <th>High</th>\n",
       "      <th>Low</th>\n",
       "      <th>Open</th>\n",
       "      <th>Volume</th>\n",
       "    </tr>\n",
       "    <tr>\n",
       "      <th>Date</th>\n",
       "      <th></th>\n",
       "      <th></th>\n",
       "      <th></th>\n",
       "      <th></th>\n",
       "      <th></th>\n",
       "    </tr>\n",
       "  </thead>\n",
       "  <tbody>\n",
       "    <tr>\n",
       "      <th>2024-01-02</th>\n",
       "      <td>48.149918</td>\n",
       "      <td>49.276493</td>\n",
       "      <td>47.577135</td>\n",
       "      <td>49.225514</td>\n",
       "      <td>411254000</td>\n",
       "    </tr>\n",
       "    <tr>\n",
       "      <th>2024-01-03</th>\n",
       "      <td>47.551140</td>\n",
       "      <td>48.165907</td>\n",
       "      <td>47.302233</td>\n",
       "      <td>47.467172</td>\n",
       "      <td>320896000</td>\n",
       "    </tr>\n",
       "    <tr>\n",
       "      <th>2024-01-04</th>\n",
       "      <td>47.979984</td>\n",
       "      <td>48.481795</td>\n",
       "      <td>47.490167</td>\n",
       "      <td>47.749068</td>\n",
       "      <td>306535000</td>\n",
       "    </tr>\n",
       "    <tr>\n",
       "      <th>2024-01-05</th>\n",
       "      <td>49.078564</td>\n",
       "      <td>49.528395</td>\n",
       "      <td>48.287860</td>\n",
       "      <td>48.443804</td>\n",
       "      <td>415039000</td>\n",
       "    </tr>\n",
       "    <tr>\n",
       "      <th>2024-01-08</th>\n",
       "      <td>52.233379</td>\n",
       "      <td>52.255374</td>\n",
       "      <td>49.460423</td>\n",
       "      <td>49.493411</td>\n",
       "      <td>642510000</td>\n",
       "    </tr>\n",
       "    <tr>\n",
       "      <th>...</th>\n",
       "      <td>...</td>\n",
       "      <td>...</td>\n",
       "      <td>...</td>\n",
       "      <td>...</td>\n",
       "      <td>...</td>\n",
       "    </tr>\n",
       "    <tr>\n",
       "      <th>2024-12-23</th>\n",
       "      <td>139.657150</td>\n",
       "      <td>139.777134</td>\n",
       "      <td>135.107566</td>\n",
       "      <td>136.267463</td>\n",
       "      <td>176053500</td>\n",
       "    </tr>\n",
       "    <tr>\n",
       "      <th>2024-12-24</th>\n",
       "      <td>140.207108</td>\n",
       "      <td>141.886946</td>\n",
       "      <td>138.637245</td>\n",
       "      <td>139.987127</td>\n",
       "      <td>105157000</td>\n",
       "    </tr>\n",
       "    <tr>\n",
       "      <th>2024-12-26</th>\n",
       "      <td>139.917130</td>\n",
       "      <td>140.837058</td>\n",
       "      <td>137.717335</td>\n",
       "      <td>139.687155</td>\n",
       "      <td>116205600</td>\n",
       "    </tr>\n",
       "    <tr>\n",
       "      <th>2024-12-27</th>\n",
       "      <td>136.997391</td>\n",
       "      <td>139.007216</td>\n",
       "      <td>134.697615</td>\n",
       "      <td>138.537258</td>\n",
       "      <td>170582600</td>\n",
       "    </tr>\n",
       "    <tr>\n",
       "      <th>2024-12-30</th>\n",
       "      <td>137.477356</td>\n",
       "      <td>140.257099</td>\n",
       "      <td>134.007674</td>\n",
       "      <td>134.817597</td>\n",
       "      <td>167734700</td>\n",
       "    </tr>\n",
       "  </tbody>\n",
       "</table>\n",
       "<p>251 rows × 5 columns</p>\n",
       "</div>"
      ],
      "text/plain": [
       "                 Close        High         Low        Open     Volume\n",
       "Date                                                                 \n",
       "2024-01-02   48.149918   49.276493   47.577135   49.225514  411254000\n",
       "2024-01-03   47.551140   48.165907   47.302233   47.467172  320896000\n",
       "2024-01-04   47.979984   48.481795   47.490167   47.749068  306535000\n",
       "2024-01-05   49.078564   49.528395   48.287860   48.443804  415039000\n",
       "2024-01-08   52.233379   52.255374   49.460423   49.493411  642510000\n",
       "...                ...         ...         ...         ...        ...\n",
       "2024-12-23  139.657150  139.777134  135.107566  136.267463  176053500\n",
       "2024-12-24  140.207108  141.886946  138.637245  139.987127  105157000\n",
       "2024-12-26  139.917130  140.837058  137.717335  139.687155  116205600\n",
       "2024-12-27  136.997391  139.007216  134.697615  138.537258  170582600\n",
       "2024-12-30  137.477356  140.257099  134.007674  134.817597  167734700\n",
       "\n",
       "[251 rows x 5 columns]"
      ]
     },
     "execution_count": 9,
     "metadata": {},
     "output_type": "execute_result"
    }
   ],
   "source": [
    "df[\"Date\"] = pd.to_datetime(df[\"Date\"])\n",
    "\n",
    "df.set_index(\"Date\", inplace = True)\n",
    "df"
   ]
  },
  {
   "attachments": {},
   "cell_type": "markdown",
   "metadata": {},
   "source": [
    "We convert the 'Date' column to a datetime object because pandas can recognise and efficiently work with datetime objects. We set the `Date` column as the index because in time-series data like ours, operations are time-based."
   ]
  },
  {
   "attachments": {},
   "cell_type": "markdown",
   "metadata": {},
   "source": [
    "With the index set, we can now use it to access different portions of our data a little bit more easily. Because our indices are labeled, we can use `loc` for **label-based indexing**."
   ]
  },
  {
   "cell_type": "code",
   "execution_count": 10,
   "metadata": {},
   "outputs": [
    {
     "data": {
      "text/plain": [
       "np.float64(52.23337936401367)"
      ]
     },
     "execution_count": 10,
     "metadata": {},
     "output_type": "execute_result"
    }
   ],
   "source": [
    "df.loc[\"2024-08\"]\n",
    "\n",
    "#build ranges\n",
    "df.loc[\"2024-01-01\":\"2024-01-07\"]\n",
    "\n",
    "df.loc[\"2024-01-08\" , \"Close\"]"
   ]
  },
  {
   "cell_type": "markdown",
   "metadata": {},
   "source": [
    "## Getting the Index\n",
    "\n",
    "Oftentimes it is helpful to retrieve the index of the dataframe for a given row or rows. Let's say we wanted to see the dates where Nvidia's `Volume` was less than 150 000 000. After some smart boolean indexing, we can look at the `index` attribute."
   ]
  },
  {
   "cell_type": "code",
   "execution_count": 11,
   "metadata": {},
   "outputs": [
    {
     "name": "stdout",
     "output_type": "stream",
     "text": [
      "DatetimeIndex(['2024-11-29', '2024-12-24', '2024-12-26'], dtype='datetime64[ns]', name='Date', freq=None)\n"
     ]
    }
   ],
   "source": [
    "dates = df[df[\"Volume\"] < 150_000_000].index\n",
    "print(dates)"
   ]
  },
  {
   "cell_type": "markdown",
   "metadata": {},
   "source": [
    "Because of our conversion to datetime when we first loaded the dataframe, we can pull specific information out of the index."
   ]
  },
  {
   "cell_type": "code",
   "execution_count": 12,
   "metadata": {},
   "outputs": [
    {
     "name": "stdout",
     "output_type": "stream",
     "text": [
      "<class 'pandas.core.frame.DataFrame'>\n",
      "DatetimeIndex: 251 entries, 2024-01-02 to 2024-12-30\n",
      "Data columns (total 5 columns):\n",
      " #   Column  Non-Null Count  Dtype  \n",
      "---  ------  --------------  -----  \n",
      " 0   Close   251 non-null    float64\n",
      " 1   High    251 non-null    float64\n",
      " 2   Low     251 non-null    float64\n",
      " 3   Open    251 non-null    float64\n",
      " 4   Volume  251 non-null    int64  \n",
      "dtypes: float64(4), int64(1)\n",
      "memory usage: 19.9 KB\n"
     ]
    }
   ],
   "source": [
    "dates.day_name()\n",
    "dates.to_period(\"Q\")\n",
    "df.info()"
   ]
  },
  {
   "attachments": {},
   "cell_type": "markdown",
   "metadata": {},
   "source": [
    "## Aggregations\n",
    "\n",
    "There are many basic operations we can do with pandas, such as calculating the mean of a column, the maximum of a column, and so on. We generally refer to these as *aggregations* since they reduce multiple values to one summary value.\n"
   ]
  },
  {
   "cell_type": "code",
   "execution_count": 13,
   "metadata": {},
   "outputs": [
    {
     "data": {
      "application/vnd.microsoft.datawrangler.viewer.v0+json": {
       "columns": [
        {
         "name": "Date",
         "rawType": "datetime64[ns]",
         "type": "datetime"
        },
        {
         "name": "0",
         "rawType": "float64",
         "type": "float"
        }
       ],
       "ref": "c6cccdc7-2847-4bd4-8c00-140e16bc2a9d",
       "rows": [
        [
         "2024-01-02 00:00:00",
         "48.426814047286044"
        ],
        [
         "2024-01-03 00:00:00",
         "47.734069779494455"
        ],
        [
         "2024-01-04 00:00:00",
         "47.98598064322299"
        ],
        [
         "2024-01-05 00:00:00",
         "48.908127912990636"
        ],
        [
         "2024-01-08 00:00:00",
         "50.857898454751265"
        ],
        [
         "2024-01-09 00:00:00",
         "52.98760237895952"
        ],
        [
         "2024-01-10 00:00:00",
         "54.02421211616138"
        ],
        [
         "2024-01-11 00:00:00",
         "54.432559253043834"
        ],
        [
         "2024-01-12 00:00:00",
         "54.62948190858579"
        ],
        [
         "2024-01-16 00:00:00",
         "55.84652949092559"
        ],
        [
         "2024-01-17 00:00:00",
         "55.58462729298965"
        ],
        [
         "2024-01-18 00:00:00",
         "56.83215882469033"
        ],
        [
         "2024-01-19 00:00:00",
         "58.340591606933"
        ],
        [
         "2024-01-22 00:00:00",
         "59.67809076022975"
        ],
        [
         "2024-01-23 00:00:00",
         "59.225261856470205"
        ],
        [
         "2024-01-24 00:00:00",
         "61.37045440835634"
        ],
        [
         "2024-01-25 00:00:00",
         "61.76130491498351"
        ],
        [
         "2024-01-26 00:00:00",
         "61.155038970840984"
        ],
        [
         "2024-01-29 00:00:00",
         "61.67483516902938"
        ],
        [
         "2024-01-30 00:00:00",
         "62.85289349446897"
        ],
        [
         "2024-01-31 00:00:00",
         "61.461418847916754"
        ],
        [
         "2024-02-01 00:00:00",
         "62.397070620923856"
        ],
        [
         "2024-02-02 00:00:00",
         "65.12054586139016"
        ],
        [
         "2024-02-05 00:00:00",
         "68.32534609411832"
        ],
        [
         "2024-02-06 00:00:00",
         "68.00146973812758"
        ],
        [
         "2024-02-07 00:00:00",
         "68.88413239251503"
        ],
        [
         "2024-02-08 00:00:00",
         "70.09817281438725"
        ],
        [
         "2024-02-09 00:00:00",
         "71.17177936891227"
        ],
        [
         "2024-02-12 00:00:00",
         "72.9031213172114"
        ],
        [
         "2024-02-13 00:00:00",
         "71.50815330346524"
        ],
        [
         "2024-02-14 00:00:00",
         "73.0595740501745"
        ],
        [
         "2024-02-15 00:00:00",
         "73.16001845947505"
        ],
        [
         "2024-02-16 00:00:00",
         "73.42392532856621"
        ],
        [
         "2024-02-20 00:00:00",
         "69.81877639061595"
        ],
        [
         "2024-02-21 00:00:00",
         "67.54264280435594"
        ],
        [
         "2024-02-22 00:00:00",
         "76.3688225619853"
        ],
        [
         "2024-02-23 00:00:00",
         "79.95196658594634"
        ],
        [
         "2024-02-26 00:00:00",
         "79.54563304072033"
        ],
        [
         "2024-02-27 00:00:00",
         "78.29159698544062"
        ],
        [
         "2024-02-28 00:00:00",
         "77.99971002979251"
        ],
        [
         "2024-02-29 00:00:00",
         "79.14028279642949"
        ],
        [
         "2024-03-01 00:00:00",
         "80.83713883004987"
        ],
        [
         "2024-03-04 00:00:00",
         "85.67482661489285"
        ],
        [
         "2024-03-05 00:00:00",
         "84.72916003972293"
        ],
        [
         "2024-03-06 00:00:00",
         "88.34796834380859"
        ],
        [
         "2024-03-07 00:00:00",
         "91.15454419989325"
        ],
        [
         "2024-03-08 00:00:00",
         "91.92279821660782"
        ],
        [
         "2024-03-11 00:00:00",
         "86.45309096320513"
        ],
        [
         "2024-03-12 00:00:00",
         "89.02574952309023"
        ],
        [
         "2024-03-13 00:00:00",
         "89.93993800656347"
        ]
       ],
       "shape": {
        "columns": 1,
        "rows": 251
       }
      },
      "text/plain": [
       "Date\n",
       "2024-01-02     48.426814\n",
       "2024-01-03     47.734070\n",
       "2024-01-04     47.985981\n",
       "2024-01-05     48.908128\n",
       "2024-01-08     50.857898\n",
       "                 ...    \n",
       "2024-12-23    137.442350\n",
       "2024-12-24    140.262095\n",
       "2024-12-26    139.277197\n",
       "2024-12-27    136.852415\n",
       "2024-12-30    137.132386\n",
       "Length: 251, dtype: float64"
      ]
     },
     "execution_count": 13,
     "metadata": {},
     "output_type": "execute_result"
    }
   ],
   "source": [
    "df.Close.mean()\n",
    "\n",
    "df.Volume.max()\n",
    "df.Volume.idxmax()\n",
    "\n",
    "df[[\"Low\", \"High\"]].mean(axis = 1)"
   ]
  },
  {
   "attachments": {},
   "cell_type": "markdown",
   "metadata": {},
   "source": [
    "### Exercise: nVidia Quarters\n",
    "\n",
    "Did Q3 or Q4 have more trading days where the `Close` price was above the annual average (i.e. above the mean)?"
   ]
  },
  {
   "cell_type": "code",
   "execution_count": 19,
   "metadata": {},
   "outputs": [
    {
     "name": "stdout",
     "output_type": "stream",
     "text": [
      "53\n",
      "63\n"
     ]
    }
   ],
   "source": [
    "condition = df.Close > df.Close.mean()\n",
    "\n",
    "mask = condition.index.to_period(\"Q\") ==\"2024Q3\"\n",
    "mask2 = condition.index.to_period(\"Q\") ==\"2024Q4\"\n",
    "\n",
    "print(condition.loc[mask].sum())\n",
    "print(condition.loc[mask2].sum())"
   ]
  },
  {
   "cell_type": "markdown",
   "metadata": {},
   "source": [
    "### Exercise: March Madness\n",
    "\n",
    "Looking only at the month of March, print the following information:\n",
    "\n",
    "* First opening price of the period\n",
    "* Last close price of the period\n",
    "* Total volume traded over the period"
   ]
  },
  {
   "cell_type": "code",
   "execution_count": 25,
   "metadata": {},
   "outputs": [
    {
     "data": {
      "text/plain": [
       "np.int64(12149218000)"
      ]
     },
     "execution_count": 25,
     "metadata": {},
     "output_type": "execute_result"
    }
   ],
   "source": [
    "march_data = df.loc[\"2024-03\"]\n",
    "march_data\n",
    "\n",
    "march_data.Open.iloc[0]\n",
    "march_data.Close.iloc[-1]\n",
    "march_data.Volume.sum()"
   ]
  }
 ],
 "metadata": {
  "kernelspec": {
   "display_name": "Python 3",
   "language": "python",
   "name": "python3"
  },
  "language_info": {
   "codemirror_mode": {
    "name": "ipython",
    "version": 3
   },
   "file_extension": ".py",
   "mimetype": "text/x-python",
   "name": "python",
   "nbconvert_exporter": "python",
   "pygments_lexer": "ipython3",
   "version": "3.12.1"
  }
 },
 "nbformat": 4,
 "nbformat_minor": 2
}
